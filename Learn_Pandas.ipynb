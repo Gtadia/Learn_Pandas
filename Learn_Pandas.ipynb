{
  "nbformat": 4,
  "nbformat_minor": 0,
  "metadata": {
    "colab": {
      "name": "Untitled2.ipynb",
      "provenance": [],
      "authorship_tag": "ABX9TyOlxysTb2hzsDueDb96SEnT",
      "include_colab_link": true
    },
    "kernelspec": {
      "name": "python3",
      "display_name": "Python 3"
    },
    "language_info": {
      "name": "python"
    }
  },
  "cells": [
    {
      "cell_type": "markdown",
      "metadata": {
        "id": "view-in-github",
        "colab_type": "text"
      },
      "source": [
        "<a href=\"https://colab.research.google.com/github/Gtadia/Learn_Pandas/blob/main/Learn_Pandas.ipynb\" target=\"_parent\"><img src=\"https://colab.research.google.com/assets/colab-badge.svg\" alt=\"Open In Colab\"/></a>"
      ]
    },
    {
      "cell_type": "markdown",
      "source": [
        "# Why Pandas? \n",
        "What you can do with Pandas can be done on Excel so why use Pandas?\n",
        "- Flexibility of Python\n",
        "- Working with Big Data\n"
      ],
      "metadata": {
        "id": "T8kYTkw5FFle"
      }
    },
    {
      "cell_type": "code",
      "execution_count": null,
      "metadata": {
        "id": "d0VGSKQkFCQV"
      },
      "outputs": [],
      "source": []
    }
  ]
}